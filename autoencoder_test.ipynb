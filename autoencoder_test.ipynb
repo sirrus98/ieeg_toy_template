{
 "cells": [
  {
   "cell_type": "code",
   "execution_count": 1,
   "metadata": {
    "collapsed": true,
    "pycharm": {
     "name": "#%%\n"
    }
   },
   "outputs": [],
   "source": [
    "%load_ext autoreload\n",
    "%autoreload 2"
   ]
  },
  {
   "cell_type": "code",
   "execution_count": 26,
   "outputs": [],
   "source": [
    "import os\n",
    "import sys\n",
    "from tqdm import tqdm\n",
    "\n",
    "sys.path.append('../../ieegpy/ieeg')\n",
    "sys.path.append('code/tools')\n",
    "sys.path.append('code')\n",
    "%matplotlib inline\n",
    "import matplotlib.pyplot as plt\n",
    "from sklearn.decomposition import PCA\n",
    "\n",
    "# sets path to one directory up from where code is\n",
    "path = \"/\".join(os.path.abspath(os.getcwd()).split('/')[:-1])\n",
    "\n",
    "import json\n",
    "import numpy as np\n",
    "import pandas as pd\n",
    "from get_iEEG_data import get_iEEG_data\n",
    "from plot_iEEG_data import plot_iEEG_data\n",
    "from line_length import line_length\n",
    "from get_iEEG_duration import get_iEEG_duration\n",
    "import csv_utils\n",
    "import segmentation\n",
    "import feature_extraction\n",
    "import preprocess"
   ],
   "metadata": {
    "collapsed": false,
    "pycharm": {
     "name": "#%%\n"
    }
   }
  },
  {
   "cell_type": "code",
   "execution_count": 3,
   "outputs": [],
   "source": [
    "with open(\"credentials.json\") as f:\n",
    "    credentials = json.load(f)\n",
    "    username = credentials['username']\n",
    "    password = credentials['password']"
   ],
   "metadata": {
    "collapsed": false,
    "pycharm": {
     "name": "#%%\n"
    }
   }
  },
  {
   "cell_type": "code",
   "execution_count": 4,
   "outputs": [
    {
     "data": {
      "text/plain": "       Unnamed: 0  Seizure number   Seizure EEC   Seizure UEO   Seizure end  \\\ncount  256.000000      256.000000  2.560000e+02  2.560000e+02  2.560000e+02   \nmean   161.523438        3.808594  3.850046e+05  3.850087e+05  3.850987e+05   \nstd    105.468253        4.411047  2.512188e+05  2.512184e+05  2.512276e+05   \nmin      0.000000        0.000000  1.422600e+04  1.422600e+04  1.425995e+04   \n25%     64.750000        1.000000  2.076900e+05  2.076916e+05  2.077277e+05   \n50%    155.500000        2.000000  3.487700e+05  3.487708e+05  3.490025e+05   \n75%    255.250000        5.000000  5.301436e+05  5.301436e+05  5.302733e+05   \nmax    364.000000       22.000000  1.694568e+06  1.694570e+06  1.694644e+06   \n\n       Seizure duration  \ncount        256.000000  \nmean          89.983726  \nstd          107.030035  \nmin            4.900000  \n25%           34.252500  \n50%           67.945000  \n75%           91.760000  \nmax          781.950000  ",
      "text/html": "<div>\n<style scoped>\n    .dataframe tbody tr th:only-of-type {\n        vertical-align: middle;\n    }\n\n    .dataframe tbody tr th {\n        vertical-align: top;\n    }\n\n    .dataframe thead th {\n        text-align: right;\n    }\n</style>\n<table border=\"1\" class=\"dataframe\">\n  <thead>\n    <tr style=\"text-align: right;\">\n      <th></th>\n      <th>Unnamed: 0</th>\n      <th>Seizure number</th>\n      <th>Seizure EEC</th>\n      <th>Seizure UEO</th>\n      <th>Seizure end</th>\n      <th>Seizure duration</th>\n    </tr>\n  </thead>\n  <tbody>\n    <tr>\n      <th>count</th>\n      <td>256.000000</td>\n      <td>256.000000</td>\n      <td>2.560000e+02</td>\n      <td>2.560000e+02</td>\n      <td>2.560000e+02</td>\n      <td>256.000000</td>\n    </tr>\n    <tr>\n      <th>mean</th>\n      <td>161.523438</td>\n      <td>3.808594</td>\n      <td>3.850046e+05</td>\n      <td>3.850087e+05</td>\n      <td>3.850987e+05</td>\n      <td>89.983726</td>\n    </tr>\n    <tr>\n      <th>std</th>\n      <td>105.468253</td>\n      <td>4.411047</td>\n      <td>2.512188e+05</td>\n      <td>2.512184e+05</td>\n      <td>2.512276e+05</td>\n      <td>107.030035</td>\n    </tr>\n    <tr>\n      <th>min</th>\n      <td>0.000000</td>\n      <td>0.000000</td>\n      <td>1.422600e+04</td>\n      <td>1.422600e+04</td>\n      <td>1.425995e+04</td>\n      <td>4.900000</td>\n    </tr>\n    <tr>\n      <th>25%</th>\n      <td>64.750000</td>\n      <td>1.000000</td>\n      <td>2.076900e+05</td>\n      <td>2.076916e+05</td>\n      <td>2.077277e+05</td>\n      <td>34.252500</td>\n    </tr>\n    <tr>\n      <th>50%</th>\n      <td>155.500000</td>\n      <td>2.000000</td>\n      <td>3.487700e+05</td>\n      <td>3.487708e+05</td>\n      <td>3.490025e+05</td>\n      <td>67.945000</td>\n    </tr>\n    <tr>\n      <th>75%</th>\n      <td>255.250000</td>\n      <td>5.000000</td>\n      <td>5.301436e+05</td>\n      <td>5.301436e+05</td>\n      <td>5.302733e+05</td>\n      <td>91.760000</td>\n    </tr>\n    <tr>\n      <th>max</th>\n      <td>364.000000</td>\n      <td>22.000000</td>\n      <td>1.694568e+06</td>\n      <td>1.694570e+06</td>\n      <td>1.694644e+06</td>\n      <td>781.950000</td>\n    </tr>\n  </tbody>\n</table>\n</div>"
     },
     "execution_count": 4,
     "metadata": {},
     "output_type": "execute_result"
    }
   ],
   "source": [
    "metadata = pd.read_csv('ieeg_metadata.csv')\n",
    "metadata.describe()"
   ],
   "metadata": {
    "collapsed": false,
    "pycharm": {
     "name": "#%%\n"
    }
   }
  },
  {
   "cell_type": "code",
   "execution_count": 5,
   "outputs": [],
   "source": [
    "seizure_data = csv_utils.read_pickle('data/seizure/seizure_clips_data', 256)\n",
    "seizure_time = csv_utils.read_pickle('data/seizure_time/seizure_time_data', 256)\n",
    "for i in range(len(seizure_data)):\n",
    "    seizure_data[i] = seizure_data[i].dropna(axis='columns')"
   ],
   "metadata": {
    "collapsed": false,
    "pycharm": {
     "name": "#%%\n"
    }
   }
  },
  {
   "cell_type": "code",
   "execution_count": 6,
   "outputs": [],
   "source": [
    "nonseizure_data = csv_utils.read_pickle('data/non_seizure/nonseizure_clips_data', 256)\n",
    "nonseizure_time = csv_utils.read_pickle('data/non_seizure_time/nonseizure_time_data', 256)\n",
    "for i in range(len(nonseizure_data)):\n",
    "    nonseizure_data[i] = nonseizure_data[i].dropna(axis='columns')"
   ],
   "metadata": {
    "collapsed": false,
    "pycharm": {
     "name": "#%%\n"
    }
   }
  },
  {
   "cell_type": "code",
   "execution_count": 7,
   "outputs": [],
   "source": [
    "# seizure_data,seizure_time = csv_utils.seizure_clip_read(metadata, username, password)\n",
    "# csv_utils.dump_pickle(seizure_data,'data/seizure/seizure_clips_data')\n",
    "# csv_utils.dump_pickle(seizure_time,'data/seizure_time/seizure_time_data')"
   ],
   "metadata": {
    "collapsed": false,
    "pycharm": {
     "name": "#%%\n"
    }
   }
  },
  {
   "cell_type": "code",
   "execution_count": 8,
   "outputs": [],
   "source": [
    "# nonseizure_data, nonseizure_time = csv_utils.nonseizure_clip_read(metadata, username, password)\n",
    "# csv_utils.dump_pickle(nonseizure_data,'data/non_seizure/nonseizure_clips_data')\n",
    "# csv_utils.dump_pickle(nonseizure_time,'data/non_seizure_time/nonseizure_time_data')"
   ],
   "metadata": {
    "collapsed": false,
    "pycharm": {
     "name": "#%%\n"
    }
   }
  },
  {
   "cell_type": "code",
   "execution_count": 9,
   "outputs": [
    {
     "name": "stderr",
     "output_type": "stream",
     "text": [
      "100%|██████████| 256/256 [01:13<00:00,  3.47it/s]\n",
      "100%|██████████| 256/256 [01:10<00:00,  3.64it/s]\n"
     ]
    }
   ],
   "source": [
    "window_len = 2\n",
    "stride = 1\n",
    "seizure_data_windowed = []\n",
    "for i in tqdm(range(len(seizure_data))):\n",
    "    fs = segmentation.get_fs(seizure_time[i])\n",
    "    if fs == 512:\n",
    "        seg = segmentation.get_windoweds(seizure_data[i].to_numpy(), fs, window_len, stride)\n",
    "        seizure_data_windowed.append(seg)\n",
    "window_len = 2\n",
    "stride = 1\n",
    "nonseizure_data_windowed = []\n",
    "for i in tqdm(range(len(nonseizure_data))):\n",
    "    fs = segmentation.get_fs(nonseizure_time[i])\n",
    "    if fs == 512:\n",
    "        seg = segmentation.get_windoweds(nonseizure_data[i].to_numpy(), fs, window_len, stride)\n",
    "        nonseizure_data_windowed.append(seg)"
   ],
   "metadata": {
    "collapsed": false,
    "pycharm": {
     "name": "#%%\n"
    }
   }
  },
  {
   "cell_type": "code",
   "execution_count": 10,
   "outputs": [
    {
     "data": {
      "text/plain": "(78, 1024, 82)"
     },
     "execution_count": 10,
     "metadata": {},
     "output_type": "execute_result"
    }
   ],
   "source": [
    "seizure_data_windowed[1].shape"
   ],
   "metadata": {
    "collapsed": false,
    "pycharm": {
     "name": "#%%\n"
    }
   }
  },
  {
   "cell_type": "code",
   "execution_count": 32,
   "outputs": [],
   "source": [
    "channel_n = 90\n",
    "fs = 512\n",
    "seizure_data_stack = np.empty((0, fs * 2, channel_n))\n",
    "for c in seizure_data_windowed:\n",
    "    if c.shape[2] == channel_n:\n",
    "        seizure_data_stack = np.vstack((seizure_data_stack, c))\n",
    "for c in nonseizure_data_windowed:\n",
    "    if c.shape[2] == channel_n:\n",
    "        seizure_data_stack = np.vstack((seizure_data_stack, c))"
   ],
   "metadata": {
    "collapsed": false,
    "pycharm": {
     "name": "#%%\n"
    }
   }
  },
  {
   "cell_type": "code",
   "execution_count": 34,
   "outputs": [
    {
     "data": {
      "text/plain": "(2192, 1024, 90)"
     },
     "execution_count": 34,
     "metadata": {},
     "output_type": "execute_result"
    }
   ],
   "source": [
    "seizure_data_stack.shape"
   ],
   "metadata": {
    "collapsed": false,
    "pycharm": {
     "name": "#%%\n"
    }
   }
  },
  {
   "cell_type": "code",
   "execution_count": 13,
   "outputs": [],
   "source": [
    "import keras\n",
    "from keras.models import Sequential, Model\n",
    "from keras.layers import Conv2D, MaxPooling2D, AveragePooling2D, Conv1D, MaxPooling1D, BatchNormalization,GlobalAveragePooling2D, Input, Reshape, UpSampling2D\n",
    "from keras.layers import Dense, Activation, Dropout, Flatten\n",
    "from tensorflow.keras.optimizers import schedules, SGD, Adam\n",
    "import tensorflow as tf\n",
    "from sklearn import preprocessing\n",
    "from matplotlib import pyplot as plt"
   ],
   "metadata": {
    "collapsed": false,
    "pycharm": {
     "name": "#%%\n"
    }
   }
  },
  {
   "cell_type": "code",
   "execution_count": 35,
   "outputs": [],
   "source": [
    "from autoencoder import Autoencoder\n",
    "ae = Autoencoder(seizure_data_stack.shape[1],seizure_data_stack.shape[2])"
   ],
   "metadata": {
    "collapsed": false,
    "pycharm": {
     "name": "#%%\n"
    }
   }
  },
  {
   "cell_type": "code",
   "execution_count": 36,
   "outputs": [],
   "source": [
    "dg_min, dg_max = preprocess.normalization_fit_stack(seizure_data_stack)\n",
    "seizure_data_norm = preprocess.normalize_stack(seizure_data_stack,dg_min,dg_max)"
   ],
   "metadata": {
    "collapsed": false,
    "pycharm": {
     "name": "#%%\n"
    }
   }
  },
  {
   "cell_type": "code",
   "execution_count": 38,
   "outputs": [
    {
     "name": "stdout",
     "output_type": "stream",
     "text": [
      "Model: \"autoencoder_1\"\n",
      "_________________________________________________________________\n",
      " Layer (type)                Output Shape              Param #   \n",
      "=================================================================\n",
      " sequential_2 (Sequential)   (None, 64, 1, 64)         8160      \n",
      "                                                                 \n",
      " sequential_3 (Sequential)   (None, 1024, 90)          10433     \n",
      "                                                                 \n",
      "=================================================================\n",
      "Total params: 18,593\n",
      "Trainable params: 18,209\n",
      "Non-trainable params: 384\n",
      "_________________________________________________________________\n",
      "Epoch 1/5\n",
      "35/35 [==============================] - 161s 5s/step - loss: 0.0397 - val_loss: 0.2788\n",
      "Epoch 2/5\n",
      "35/35 [==============================] - 164s 5s/step - loss: 0.0254 - val_loss: 0.2576\n",
      "Epoch 3/5\n",
      "35/35 [==============================] - 158s 5s/step - loss: 0.0242 - val_loss: 0.2387\n",
      "Epoch 4/5\n",
      "35/35 [==============================] - 158s 5s/step - loss: 0.0234 - val_loss: 0.1933\n",
      "Epoch 5/5\n",
      "35/35 [==============================] - 161s 5s/step - loss: 0.0194 - val_loss: 0.1678\n"
     ]
    },
    {
     "data": {
      "text/plain": "<keras.callbacks.History at 0x1d26aa37280>"
     },
     "execution_count": 38,
     "metadata": {},
     "output_type": "execute_result"
    }
   ],
   "source": [
    "ae.build(input_shape = (None,seizure_data_norm.shape[1],seizure_data_norm.shape[2]))\n",
    "ae.summary()\n",
    "ae.compile(optimizer='adam', loss='mae')\n",
    "ae.fit(seizure_data_norm, seizure_data_norm,\n",
    "          epochs=5,\n",
    "          batch_size=64,\n",
    "          validation_data=(seizure_data_norm, seizure_data_norm))"
   ],
   "metadata": {
    "collapsed": false,
    "pycharm": {
     "name": "#%%\n"
    }
   }
  },
  {
   "cell_type": "code",
   "execution_count": 44,
   "outputs": [
    {
     "name": "stdout",
     "output_type": "stream",
     "text": [
      "WARNING:tensorflow:Compiled the loaded model, but the compiled metrics have yet to be built. `model.compile_metrics` will be empty until you train or evaluate the model.\n",
      "WARNING:tensorflow:Compiled the loaded model, but the compiled metrics have yet to be built. `model.compile_metrics` will be empty until you train or evaluate the model.\n"
     ]
    }
   ],
   "source": [
    "ae.encoder.save(\"encoder.h5\")\n",
    "ae.decoder.save(\"decoder.h5\")"
   ],
   "metadata": {
    "collapsed": false,
    "pycharm": {
     "name": "#%%\n"
    }
   }
  },
  {
   "cell_type": "code",
   "execution_count": 56,
   "outputs": [
    {
     "name": "stdout",
     "output_type": "stream",
     "text": [
      "69/69 [==============================] - 20s 296ms/step\n",
      "69/69 [==============================] - 11s 156ms/step\n"
     ]
    }
   ],
   "source": [
    "encode = ae.encoder.predict(seizure_data_norm)\n",
    "decode = ae.decoder.predict(encode)"
   ],
   "metadata": {
    "collapsed": false,
    "pycharm": {
     "name": "#%%\n"
    }
   }
  },
  {
   "cell_type": "code",
   "execution_count": 57,
   "outputs": [
    {
     "data": {
      "text/plain": "(2192, 1024, 90)"
     },
     "execution_count": 57,
     "metadata": {},
     "output_type": "execute_result"
    }
   ],
   "source": [
    "decode.shape"
   ],
   "metadata": {
    "collapsed": false,
    "pycharm": {
     "name": "#%%\n"
    }
   }
  },
  {
   "cell_type": "code",
   "execution_count": 87,
   "outputs": [
    {
     "data": {
      "text/plain": "0.028935761681124536"
     },
     "execution_count": 87,
     "metadata": {},
     "output_type": "execute_result"
    }
   ],
   "source": [
    "from sklearn.metrics import mean_squared_error\n",
    "mean_squared_error(seizure_data_norm[3], decode[3])"
   ],
   "metadata": {
    "collapsed": false,
    "pycharm": {
     "name": "#%%\n"
    }
   }
  },
  {
   "cell_type": "code",
   "execution_count": 81,
   "outputs": [
    {
     "data": {
      "text/plain": "[<matplotlib.lines.Line2D at 0x1d20d14ef70>]"
     },
     "execution_count": 81,
     "metadata": {},
     "output_type": "execute_result"
    },
    {
     "data": {
      "text/plain": "<Figure size 432x288 with 1 Axes>",
      "image/png": "[encoded data removed]"
     },
     "metadata": {
      "needs_background": "light"
     },
     "output_type": "display_data"
    }
   ],
   "source": [
    "plt.plot(seizure_data_norm[6,:,5])\n",
    "plt.plot(decode[6,:,5])"
   ],
   "metadata": {
    "collapsed": false,
    "pycharm": {
     "name": "#%%\n"
    }
   }
  },
  {
   "cell_type": "code",
   "execution_count": 69,
   "outputs": [
    {
     "data": {
      "text/plain": "0.33884054"
     },
     "execution_count": 69,
     "metadata": {},
     "output_type": "execute_result"
    }
   ],
   "source": [
    "decode[0].max()"
   ],
   "metadata": {
    "collapsed": false,
    "pycharm": {
     "name": "#%%\n"
    }
   }
  },
  {
   "cell_type": "code",
   "execution_count": 52,
   "outputs": [
    {
     "data": {
      "text/plain": "<Figure size 432x288 with 1 Axes>",
      "image/png": "[encoded data removed]"
     },
     "metadata": {
      "needs_background": "light"
     },
     "output_type": "display_data"
    }
   ],
   "source": [
    "plt.imshow(encode[0], cmap='inferno')\n",
    "plt.show()"
   ],
   "metadata": {
    "collapsed": false,
    "pycharm": {
     "name": "#%%\n"
    }
   }
  },
  {
   "cell_type": "code",
   "execution_count": 54,
   "outputs": [
    {
     "data": {
      "text/plain": "<Figure size 432x288 with 1 Axes>",
      "image/png": "[encoded data removed]"
     },
     "metadata": {
      "needs_background": "light"
     },
     "output_type": "display_data"
    }
   ],
   "source": [
    "plt.imshow(encode[1097], cmap='inferno', interpolation='nearest')\n",
    "plt.show()"
   ],
   "metadata": {
    "collapsed": false,
    "pycharm": {
     "name": "#%%\n"
    }
   }
  },
  {
   "cell_type": "code",
   "execution_count": null,
   "outputs": [],
   "source": [],
   "metadata": {
    "collapsed": false,
    "pycharm": {
     "name": "#%%\n"
    }
   }
  }
 ],
 "metadata": {
  "kernelspec": {
   "display_name": "Python 3",
   "language": "python",
   "name": "python3"
  },
  "language_info": {
   "codemirror_mode": {
    "name": "ipython",
    "version": 2
   },
   "file_extension": ".py",
   "mimetype": "text/x-python",
   "name": "python",
   "nbconvert_exporter": "python",
   "pygments_lexer": "ipython2",
   "version": "2.7.6"
  }
 },
 "nbformat": 4,
 "nbformat_minor": 0
}